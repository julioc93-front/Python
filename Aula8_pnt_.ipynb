{
  "nbformat": 4,
  "nbformat_minor": 0,
  "metadata": {
    "colab": {
      "provenance": [],
      "authorship_tag": "ABX9TyMPNBP6uW+bHnsnEyywdyOR",
      "include_colab_link": true
    },
    "kernelspec": {
      "name": "python3",
      "display_name": "Python 3"
    },
    "language_info": {
      "name": "python"
    }
  },
  "cells": [
    {
      "cell_type": "markdown",
      "metadata": {
        "id": "view-in-github",
        "colab_type": "text"
      },
      "source": [
        "<a href=\"https://colab.research.google.com/github/julioc93-front/python/blob/main/Aula8_pnt_.ipynb\" target=\"_parent\"><img src=\"https://colab.research.google.com/assets/colab-badge.svg\" alt=\"Open In Colab\"/></a>"
      ]
    },
    {
      "cell_type": "code",
      "execution_count": null,
      "metadata": {
        "colab": {
          "base_uri": "https://localhost:8080/"
        },
        "id": "zXIkUckdiOi4",
        "outputId": "c8a8cc87-0467-4126-97d7-eab5505847a5"
      },
      "outputs": [
        {
          "output_type": "stream",
          "name": "stdout",
          "text": [
            "<class 'str'>\n"
          ]
        }
      ],
      "source": [
        "# ETE CICERO DIAS\n",
        "# DOCENTE: CLOVES\n",
        "# ESTUDANTE: JULIO CESAR\n",
        "# PNT - TIPOS PRIMITIVOS DE DADOS\n",
        "# print('Julio')\n",
        "# Tipos primitivos de Dados\n",
        "\n",
        "#j = 'Julio'\n",
        "#print(type(j))\n"
      ]
    },
    {
      "cell_type": "code",
      "source": [
        "# 3. Operadores Aritméticos - Python\n",
        "# 10 + 1\n",
        "# 10 - 1\n",
        "# 4 * 5\n",
        "# 10 / 3\n",
        "# 10 // 3 (DIVISÃO INTEIRA)\n",
        "# 4 ** 5 (EXPONENCIAÇÃO)\n",
        "# 10 % 3 (RESTO DE DIVISÃO)\n",
        "\n",
        "#c = 2 ** 3\n",
        "#print(c)\n",
        "\n",
        "# 4. Operadores Relacionais Simples.\n",
        "# 7 > 5\n",
        "# 10 < 9\n",
        "# 10 < 15\n",
        "# 10 == 10\n",
        "# 10 == 8\n",
        "# notaA = 10\n",
        "# notaB = 5\n",
        "# notaA == notaB\n",
        "\n",
        "# notaA = 10\n",
        "# notaB = 5\n",
        "# notaA > notaB\n",
        "\n",
        "# notaA = 10\n",
        "# notaB = 5\n",
        "# notaA = notaB\n",
        "# print(notaA)\n",
        "\n",
        "# 5. Operadores Relacionais Compostos.\n",
        "# MAIOR OU IGUAL\n",
        "#na = 5\n",
        "#nb = 6\n",
        "#nc = 8\n",
        "#nd = 10\n",
        "#na >= nb\n",
        "#MENOR OU IGUAL\n",
        "#na = 5\n",
        "#nb = 6\n",
        "#nc = 8\n",
        "#nd = 10\n",
        "#na <= nb\n",
        "#DIFERENTE OU IGUAL\n",
        "#na = 5\n",
        "#nb = 6\n",
        "#nc = 8\n",
        "#nd = 10\n",
        "#na != nb\n",
        "#print(\"Estudante aprovado!\")\n",
        "\n",
        "#6. Função print()\n",
        "#print('Olá mundo!, 2, 2.5, True, False')\n",
        "\n",
        "#7. Função input() (capturar dados)\n",
        "#nome = input('Digite seu nome: ')\n",
        "#print(f'Seu nome é {nome}.')\n",
        "\n",
        "#converter o input para inteiro.\n",
        "#idade = int(input('Digite sua idade: '))\n",
        "#print(f'Você tem {idade} anos.')\n",
        "#print(type(idade))\n",
        "\n",
        "#valores float ( reais )\n",
        "#peso = float(input('Digite seu peso: '))\n",
        "#print(f'Você pesa {peso}KGs') #f serve para formatar\n",
        "#print(type(peso))\n",
        "\n",
        "#8. Estruturas Condicionais\n",
        "\n",
        "#numero = int(input('Digite um número: '))\n",
        "#if numero % 2 == 0:\n",
        "#   print(f'O número {numero} é par.')\n",
        "#else:\n",
        "#   print(f'O número {numero} é impar.')\n",
        "\n",
        "\n",
        "\n",
        "#9. Estruturas Condicionais Aninhadas e o elif;\n",
        "#numero = float(input('Digite um número: '))\n",
        "#if numero > 0:\n",
        "  #print('Este núro é positivo.')\n",
        "  #elif numero == 0:\n",
        "    #print('Este úmer é neutro.')\n",
        "    #else\n",
        "    #print('Este número é negativo.')\n",
        "\n",
        "#10. Operadores Lógicos: and; or; not; Função range() e os operadores in;\n",
        "#a. Operador and\n",
        "#resposta = int( input('Qual sua idade: ') )\n",
        "#if resposta>=18 and resposta <=65:\n",
        "   #print('Você é obrigado a votar!')\n",
        "#else:\n",
        "   #print('Você não é obrigado a votar!')\n",
        "\n",
        "#b. Operador or:\n",
        "\n",
        "#print('1. Idoso')\n",
        "#print('2. Gestante')\n",
        "#print('3. Cadeirante')\n",
        "#print('4. Nenhum destes')\n",
        "#resposta=int( input('Você é: ') )\n",
        "\n",
        "#if (resposta==1) or (resposta==2) or (resposta==3) :\n",
        "#   print('Você tem direito a fila prioritária')\n",
        "#else:\n",
        "#   print('Você não tem direito a nada. Vá pra fila e fique quieto')\n",
        "\n",
        "#c. Operador not:\n",
        "\n",
        "#a = 4\n",
        "#b = 2\n",
        "#print(not a > b)\n",
        "\n",
        "#banda = input('Qual melhor banda do mundo? ')\n",
        "\n",
        "#if not banda=='Beatles':\n",
        "#   print('Herege!')\n",
        "#else:\n",
        "#   print('Correto, são os Beatles!')\n",
        "\n",
        "\n",
        "#d. Função range():\n",
        "\n",
        "#a = int(input('Digite um número: '))\n",
        "#if a in range(1, 300):\n",
        "#   print(f'{a} está entre 1 e 300.')\n",
        "#else:\n",
        "#   print(f'{a} não está entre 1 e 300.')\n",
        "\n",
        "\n",
        "\n"
      ],
      "metadata": {
        "colab": {
          "base_uri": "https://localhost:8080/"
        },
        "id": "iephvA5Atlt3",
        "outputId": "0c2f728c-ac76-44d3-ba92-ddbeb6596a33"
      },
      "execution_count": null,
      "outputs": [
        {
          "output_type": "stream",
          "name": "stdout",
          "text": [
            "Digite um número: 50\n",
            "O número 50 é par.\n"
          ]
        }
      ]
    },
    {
      "cell_type": "code",
      "source": [],
      "metadata": {
        "id": "QMP5Y1ZDlslQ"
      },
      "execution_count": null,
      "outputs": []
    }
  ]
}