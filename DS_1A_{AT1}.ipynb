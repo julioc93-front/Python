{
  "nbformat": 4,
  "nbformat_minor": 0,
  "metadata": {
    "colab": {
      "provenance": [],
      "authorship_tag": "ABX9TyNDxBPGByLEm19nwqGqOx4m",
      "include_colab_link": true
    },
    "kernelspec": {
      "name": "python3",
      "display_name": "Python 3"
    },
    "language_info": {
      "name": "python"
    }
  },
  "cells": [
    {
      "cell_type": "markdown",
      "metadata": {
        "id": "view-in-github",
        "colab_type": "text"
      },
      "source": [
        "<a href=\"https://colab.research.google.com/github/julioc93-front/python/blob/main/DS_1A_%7BAT1%7D.ipynb\" target=\"_parent\"><img src=\"https://colab.research.google.com/assets/colab-badge.svg\" alt=\"Open In Colab\"/></a>"
      ]
    },
    {
      "cell_type": "code",
      "execution_count": 1,
      "metadata": {
        "id": "-Rjka8EPs8iG",
        "colab": {
          "base_uri": "https://localhost:8080/"
        },
        "outputId": "d2589d85-b0b0-4917-ea6f-64e5183dc524"
      },
      "outputs": [
        {
          "output_type": "stream",
          "name": "stdout",
          "text": [
            "Digite uma letra (F para Feminino, M para Masculino): m\n",
            "M - Masculino\n"
          ]
        }
      ],
      "source": [
        "#1.\n",
        "#print('Olá ETE CICERO DIAS!')\n",
        "\n",
        "#2.\n",
        "#numero = input('Digite um número: ')\n",
        "#print(f'O número informado foi: {numero} ')\n",
        "\n",
        "#3.\n",
        "#numero1 = float(input('Digite o primeiro número: '))\n",
        "#numero2 = float(input('Digite o segundo número: '))\n",
        "#soma = numero1 + numero2\n",
        "#print(f'A soma de {numero1} e {numero2} é: {soma}')\n",
        "\n",
        "#4.\n",
        "#nota1 = float(input('Digite a primeira nota: '))\n",
        "#nota2 = float(input('Digite a segunda nota: '))\n",
        "#nota3 = float(input('Digite a terceira nota: '))\n",
        "#nota4 = float(input('Digite a quarta nota: '))\n",
        "#soma = nota1 + nota2 + nota3 + nota4\n",
        "#print(f'A média final é: {soma/4}')\n",
        "\n",
        "#5.\n",
        "#metros = float(input(\"Digite a quantidade em metros: \"))\n",
        "#centimetros = metros * 100\n",
        "#print(f\"{metros} metros são equivalentes a {centimetros} centímetros.\")\n",
        "\n",
        "#6.\n",
        "#import math\n",
        "#raio = float(input(\"Digite o raio do círculo: \"))\n",
        "#area = math.pi * raio**2\n",
        "#print(f\"A área do círculo com raio {raio} é {area:.2f}\")\n",
        "\n",
        "#7.\n",
        "#lado = float(input(\"Digite o comprimento do lado do quadrado: \"))\n",
        "#area = lado**2\n",
        "#dobro_area = 2* area\n",
        "#print(f\"A área do quadrado com lado {lado} é {area:.2f}\" )\n",
        "#print(f\"O dobro da área é {dobro_area:.2f}\" )\n",
        "\n",
        "#8.\n",
        "#valorporhora = float(input(\"Qual é o valor que você ganha por hora? \"))\n",
        "#horastrabalhadas = float(input(\"Quantas horas você trabalha no mês? \"))\n",
        "#salariomensal = valorporhora * horastrabalhadas\n",
        "#print(f\"Seu salário por mês é de R${salariomensal:.2f}\")\n",
        "\n",
        "#9.\n",
        "#valor = float(input(\"Digite um valor: \"))\n",
        "#if valor > 0:\n",
        "#    print(\"O valor é positivo.\")\n",
        "#elif valor < 0:\n",
        "#    print(\"O valor é negativo.\")\n",
        "#else:\n",
        "#    print(\"O valor é zero.\")\n",
        "\n",
        "#10.\n",
        "#letra = input(\"Digite uma letra (F para Feminino, M para Masculino): \")\n",
        "#letra = letra.upper()\n",
        "#if letra == \"F\":\n",
        "#    print(\"F - Feminino\")\n",
        "#elif letra == \"M\":\n",
        "#    print(\"M - Masculino\")\n",
        "#else:\n",
        "#    print(\"Sexo Inválido!\")\n",
        "\n",
        "letra = input(\"Digite uma letra (F para Feminino, M para Masculino): \")\n",
        "letra = letra.upper()\n",
        "if letra == \"F\": print(\"F - Feminino\")\n",
        "elif letra == \"M\": print(\"M - Masculino\")\n",
        "else: print(\"Sexo Inválido!\")\n",
        "\n"
      ]
    },
    {
      "cell_type": "code",
      "source": [],
      "metadata": {
        "id": "snM6-b9NtcF8"
      },
      "execution_count": null,
      "outputs": []
    }
  ]
}