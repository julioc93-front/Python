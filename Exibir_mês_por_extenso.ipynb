{
  "nbformat": 4,
  "nbformat_minor": 0,
  "metadata": {
    "colab": {
      "provenance": [],
      "authorship_tag": "ABX9TyPXsKrgFnAWmnaJ0Cw3nAfE",
      "include_colab_link": true
    },
    "kernelspec": {
      "name": "python3",
      "display_name": "Python 3"
    },
    "language_info": {
      "name": "python"
    }
  },
  "cells": [
    {
      "cell_type": "markdown",
      "metadata": {
        "id": "view-in-github",
        "colab_type": "text"
      },
      "source": [
        "<a href=\"https://colab.research.google.com/github/julioc93-front/python/blob/main/Exibir_m%C3%AAs_por_extenso.ipynb\" target=\"_parent\"><img src=\"https://colab.research.google.com/assets/colab-badge.svg\" alt=\"Open In Colab\"/></a>"
      ]
    },
    {
      "cell_type": "code",
      "execution_count": 2,
      "metadata": {
        "colab": {
          "base_uri": "https://localhost:8080/"
        },
        "id": "s-Z_VllPFgz9",
        "outputId": "70f2b251-15ff-4fe3-92cb-a14c409daad9"
      },
      "outputs": [
        {
          "output_type": "stream",
          "name": "stdout",
          "text": [
            "Digite o número do mês (1-12): 5\n",
            "O mês é Maio.\n"
          ]
        }
      ],
      "source": [
        "def nome_do_mes(numero_mes):\n",
        "    meses = {\n",
        "        1: \"Janeiro\",\n",
        "        2: \"Fevereiro\",\n",
        "        3: \"Março\",\n",
        "        4: \"Abril\",\n",
        "        5: \"Maio\",\n",
        "        6: \"Junho\",\n",
        "        7: \"Julho\",\n",
        "        8: \"Agosto\",\n",
        "        9: \"Setembro\",\n",
        "        10: \"Outubro\",\n",
        "        11: \"Novembro\",\n",
        "        12: \"Dezembro\"\n",
        "    }\n",
        "\n",
        "    return meses.get(numero_mes, \"Mês inválido\")\n",
        "\n",
        "# Solicita ao usuário que insira o número do mês\n",
        "numero_mes = int(input(\"Digite o número do mês (1-12): \"))\n",
        "\n",
        "# Chama a função para obter o nome do mês\n",
        "nome = nome_do_mes(numero_mes)\n",
        "\n",
        "# Verifica se o mês é válido e imprime o resultado\n",
        "if nome != \"Mês inválido\":\n",
        "    print(f\"O mês é {nome}.\")\n",
        "else:\n",
        "    print(\"Número de mês inválido.\")\n"
      ]
    }
  ]
}