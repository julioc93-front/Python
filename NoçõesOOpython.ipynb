{
  "nbformat": 4,
  "nbformat_minor": 0,
  "metadata": {
    "colab": {
      "provenance": [],
      "authorship_tag": "ABX9TyMCaJC3U/7Fo8U5SQ50gAKB",
      "include_colab_link": true
    },
    "kernelspec": {
      "name": "python3",
      "display_name": "Python 3"
    },
    "language_info": {
      "name": "python"
    }
  },
  "cells": [
    {
      "cell_type": "markdown",
      "metadata": {
        "id": "view-in-github",
        "colab_type": "text"
      },
      "source": [
        "<a href=\"https://colab.research.google.com/github/julioc93-front/python/blob/main/No%C3%A7%C3%B5esOOpython.ipynb\" target=\"_parent\"><img src=\"https://colab.research.google.com/assets/colab-badge.svg\" alt=\"Open In Colab\"/></a>"
      ]
    },
    {
      "cell_type": "code",
      "execution_count": null,
      "metadata": {
        "colab": {
          "base_uri": "https://localhost:8080/"
        },
        "id": "Sk07ytjU5ITn",
        "outputId": "8c45684d-aa61-460b-f351-c70f203a07c1"
      },
      "outputs": [
        {
          "output_type": "execute_result",
          "data": {
            "text/plain": [
              "10"
            ]
          },
          "metadata": {},
          "execution_count": 8
        }
      ],
      "source": [
        "# ETE Cícero Dias\n",
        "# Python Noções OO\n",
        "# Estudante: Julio Cesar\n",
        "class Carro:\n",
        "  def __init__(self):\n",
        "    self._nrodas = 4\n",
        "  def set_nrodas(self, n):\n",
        "    self._nrodas = n\n",
        "gol = Carro()\n",
        "gol._nrodas\n",
        "\n",
        "gol.set_nrodas(10)\n",
        "gol._nrodas\n",
        "\n",
        "#imprime o objeto\n",
        "#c = Carro()\n",
        "#print (nrodas)"
      ]
    }
  ]
}